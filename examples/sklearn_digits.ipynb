{
 "cells": [
  {
   "cell_type": "code",
   "execution_count": 1,
   "id": "1114df89",
   "metadata": {},
   "outputs": [],
   "source": [
    "# load Digits Dataset from sklearn\n"
   ]
  },
  {
   "cell_type": "markdown",
   "id": "bdc6d694",
   "metadata": {},
   "source": [
    "Print to show there are 1797 images (8 by 8 images for a dimensionality of 64)\n",
    "\n",
    "Print to show there are 1797 labels (integers from 0–9)"
   ]
  },
  {
   "cell_type": "code",
   "execution_count": null,
   "id": "c164026e",
   "metadata": {},
   "outputs": [],
   "source": []
  },
  {
   "cell_type": "markdown",
   "id": "f3c71c94",
   "metadata": {},
   "source": [
    "Showing the Images and the Labels (Digits Dataset)\n",
    "\n",
    "This section is really just to show what the images and labels look like. It usually helps to visualize your data to see what you are working with.\n"
   ]
  },
  {
   "cell_type": "code",
   "execution_count": null,
   "id": "20657b9d",
   "metadata": {},
   "outputs": [],
   "source": []
  }
 ],
 "metadata": {
  "kernelspec": {
   "display_name": "Python 3 (ipykernel)",
   "language": "python",
   "name": "python3"
  },
  "language_info": {
   "codemirror_mode": {
    "name": "ipython",
    "version": 3
   },
   "file_extension": ".py",
   "mimetype": "text/x-python",
   "name": "python",
   "nbconvert_exporter": "python",
   "pygments_lexer": "ipython3",
   "version": "3.8.10"
  }
 },
 "nbformat": 4,
 "nbformat_minor": 5
}
