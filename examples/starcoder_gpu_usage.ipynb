{
 "cells": [
  {
   "cell_type": "code",
   "execution_count": null,
   "id": "3aa18388",
   "metadata": {},
   "outputs": [],
   "source": [
    "import pandas as pd\n",
    "import numpy as np\n",
    "import matplotlib.pyplot as plt"
   ]
  },
  {
   "cell_type": "markdown",
   "id": "50ed5565",
   "metadata": {},
   "source": [
    "read the csv usage_df.csv"
   ]
  },
  {
   "cell_type": "code",
   "execution_count": null,
   "id": "0997b28d",
   "metadata": {},
   "outputs": [],
   "source": []
  },
  {
   "cell_type": "markdown",
   "id": "25867be0",
   "metadata": {},
   "source": [
    "plot the daily usage of month 2022-03"
   ]
  },
  {
   "cell_type": "code",
   "execution_count": null,
   "id": "e7fed4a1",
   "metadata": {},
   "outputs": [],
   "source": []
  },
  {
   "cell_type": "markdown",
   "id": "9dd0a765",
   "metadata": {},
   "source": [
    "Calculate the average monthly usage and plot the data"
   ]
  },
  {
   "cell_type": "code",
   "execution_count": null,
   "id": "e0e304b0",
   "metadata": {},
   "outputs": [],
   "source": []
  },
  {
   "cell_type": "code",
   "execution_count": null,
   "id": "e7e4b2e2",
   "metadata": {},
   "outputs": [],
   "source": []
  }
 ],
 "metadata": {
  "kernelspec": {
   "display_name": "Python 3 (ipykernel)",
   "language": "python",
   "name": "python3"
  },
  "language_info": {
   "codemirror_mode": {
    "name": "ipython",
    "version": 3
   },
   "file_extension": ".py",
   "mimetype": "text/x-python",
   "name": "python",
   "nbconvert_exporter": "python",
   "pygments_lexer": "ipython3",
   "version": "3.8.10"
  }
 },
 "nbformat": 4,
 "nbformat_minor": 5
}
