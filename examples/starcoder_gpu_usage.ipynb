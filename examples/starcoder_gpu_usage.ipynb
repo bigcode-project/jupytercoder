{
 "cells": [
  {
   "cell_type": "code",
   "execution_count": 5,
   "id": "3aa18388",
   "metadata": {},
   "outputs": [
    {
     "name": "stdout",
     "output_type": "stream",
     "text": [
      "hello\n"
     ]
    }
   ],
   "source": [
    "def hello():\n",
    "    print(\"hello\")\n",
    "hello()"
   ]
  },
  {
   "cell_type": "markdown",
   "id": "50ed5565",
   "metadata": {},
   "source": [
    "read the csv usage_df.csv"
   ]
  },
  {
   "cell_type": "code",
   "execution_count": null,
   "id": "0997b28d",
   "metadata": {},
   "outputs": [],
   "source": [
    "import pandas as pd\n",
    "df = pd.read_csv(\"usage_df.csv\")\n"
   ]
  },
  {
   "cell_type": "markdown",
   "id": "25867be0",
   "metadata": {},
   "source": [
    "plot the daily usage of month 2022-03"
   ]
  },
  {
   "cell_type": "code",
   "execution_count": null,
   "id": "e7fed4a1",
   "metadata": {},
   "outputs": [],
   "source": []
  },
  {
   "cell_type": "markdown",
   "id": "9dd0a765",
   "metadata": {},
   "source": [
    "Calculate the average monthly usage and plot the data"
   ]
  },
  {
   "cell_type": "code",
   "execution_count": null,
   "id": "e0e304b0",
   "metadata": {},
   "outputs": [],
   "source": []
  },
  {
   "cell_type": "code",
   "execution_count": 6,
   "id": "e7e4b2e2",
   "metadata": {},
   "outputs": [
    {
     "ename": "SyntaxError",
     "evalue": "invalid syntax (2866948305.py, line 1)",
     "output_type": "error",
     "traceback": [
      "\u001b[1;36m  Cell \u001b[1;32mIn[6], line 1\u001b[1;36m\u001b[0m\n\u001b[1;33m    code \"<start_jupyter><jupyter_code>def hello():\\n    print(\\\"hello\\\")\\nhello()<jupyter_output>hello\\n<jupyter_text>read the csv usage_df.csv<jupyter_code>\"\u001b[0m\n\u001b[1;37m         ^\u001b[0m\n\u001b[1;31mSyntaxError\u001b[0m\u001b[1;31m:\u001b[0m invalid syntax\n"
     ]
    }
   ],
   "source": [
    "code \"<start_jupyter><jupyter_code>def hello():\\n    print(\\\"hello\\\")\\nhello()<jupyter_output>hello\\n<jupyter_text>read the csv usage_df.csv<jupyter_code>\""
   ]
  },
  {
   "cell_type": "code",
   "execution_count": null,
   "id": "77ba0a71",
   "metadata": {},
   "outputs": [],
   "source": []
  }
 ],
 "metadata": {
  "kernelspec": {
   "display_name": "Python 3 (ipykernel)",
   "language": "python",
   "name": "python3"
  },
  "language_info": {
   "codemirror_mode": {
    "name": "ipython",
    "version": 3
   },
   "file_extension": ".py",
   "mimetype": "text/x-python",
   "name": "python",
   "nbconvert_exporter": "python",
   "pygments_lexer": "ipython3",
   "version": "3.10.11"
  }
 },
 "nbformat": 4,
 "nbformat_minor": 5
}
